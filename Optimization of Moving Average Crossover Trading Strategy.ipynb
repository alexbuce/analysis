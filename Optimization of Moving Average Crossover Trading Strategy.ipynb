{
 "cells": [
  {
   "cell_type": "code",
   "execution_count": 9,
   "metadata": {},
   "outputs": [],
   "source": [
    "import pandas as pd\n",
    "import numpy as np\n",
    "import math\n",
    "import matplotlib.pyplot as plt\n",
    "%matplotlib inline"
   ]
  },
  {
   "cell_type": "code",
   "execution_count": 7,
   "metadata": {},
   "outputs": [],
   "source": [
    "# Create 2 functions to refactor the MA strategy and make it modular\n",
    "def ma_strat(ticker, short_ma, long_ma):\n",
    "    # Read in data from Yahoo Finance for the relevant ticker\n",
    "    #sp500 = data.DataReader(ticker, 'yahoo', start='01/01/2000')\n",
    "    \n",
    "    # Reading in my csv file since the Yahoo API doesn't work anymore\n",
    "    file = 'C:\\\\Users\\\\txxv\\\\OneDrive - Chevron\\\\@ General Reference\\\\@ Reggie\\\\Trading Data\\\\SP500_historical_daily1962.csv'\n",
    "    sp500 = pd.read_csv(file, index_col='Date', parse_dates=True)\n",
    "    sp500.sort_index(inplace=True)\n",
    "    \n",
    "    # Calculate long and short moving averages\n",
    "    sp500['short_ma'] = np.round(sp500['Close'].rolling(window=short_ma).mean(),2)\n",
    "    sp500['long_ma'] = np.round(sp500['Close'].rolling(window=long_ma).mean(),2)\n",
    "    \n",
    "    # Create column with moving average spread differential\n",
    "    sp500['short_ma-long_ma'] = sp500['short_ma'] - sp500['long_ma']\n",
    "    \n",
    "    # Set desired number of points as threshold for spread difference and create column containing strategy 'Stance'\n",
    "    X=50\n",
    "    sp500['Stance'] = np.where(sp500['short_ma-long_ma'] > X, 1, 0)\n",
    "    sp500['Stance'] = np.where(sp500['short_ma-long_ma'] < X, -1, sp500['Stance'])\n",
    "    sp500['Stance'].value_counts()\n",
    "    \n",
    "    # Create columns containing daily market log returns and strategy daily log returns\n",
    "    sp500['Market Returns'] = np.log(sp500['Close'] / sp500['Close'].shift(1))\n",
    "    sp500['Strategy Returns'] = sp500['Market Returns'] * sp500['Stance'].shift(1)\n",
    "    \n",
    "    # Set strategy starting equity to 1 (i.e. 100%) and generate equity curve\n",
    "    sp500['Strategy Equity'] = sp500['Strategy Returns'].cumsum() + 1\n",
    "    \n",
    "    sharpe = annualized_sharpe(sp500['Strategy Returns'])\n",
    "    \n",
    "    return (sp500['Strategy Returns'].cumsum()[-1], sharpe)\n",
    "\n",
    "# Create function to calculate Sharpe ratio - Risk free rate element excluded for simplicity\n",
    "def annualized_sharpe(returns, N=252):\n",
    "    return np.sqrt(N) * (returns.mean() / returns.std())"
   ]
  },
  {
   "cell_type": "code",
   "execution_count": 5,
   "metadata": {},
   "outputs": [],
   "source": [
    "# Use the numpy.linspace() function to create an array of values that represent...\n",
    "# ...the different values of the short and long moving average windows that we want to test\n",
    "short_ma = np.linspace(10,60,25,dtype=int)\n",
    "long_ma = np.linspace(220,270,25,dtype=int)"
   ]
  },
  {
   "cell_type": "code",
   "execution_count": 6,
   "metadata": {},
   "outputs": [],
   "source": [
    "# Initialize 2 numpy arrays to hold the results of the various backtest iterations.\n",
    "# One array holds the ending P&L and the other holds the Sharpe ratio.\n",
    "results_pnl = np.zeros((len(short_ma), len(long_ma)))\n",
    "results_sharpe = np.zeros((len(short_ma), len(long_ma)))"
   ]
  },
  {
   "cell_type": "code",
   "execution_count": 8,
   "metadata": {},
   "outputs": [],
   "source": [
    "# Test code: runs through all of the various combinations of short and long MA windows...\n",
    "# ...that were generated above with the np.linspace functions\n",
    "# NOTE: This code may take 10-20 minutes to run.\n",
    "for i, shortma in enumerate(short_ma):\n",
    "    for j, longma in enumerate(long_ma):\n",
    "        pnl, sharpe = ma_strat('^GSPC', shortma, longma)\n",
    "        results_pnl[i,j] = pnl\n",
    "        results_sharpe[i,j] = sharpe\n"
   ]
  },
  {
   "cell_type": "code",
   "execution_count": 11,
   "metadata": {},
   "outputs": [
    {
     "data": {
      "image/png": "[encoded data removed]",
      "text/plain": [
       "<Figure size 432x288 with 2 Axes>"
      ]
     },
     "metadata": {},
     "output_type": "display_data"
    }
   ],
   "source": [
    "plt.pcolor(short_ma, long_ma, results_pnl)\n",
    "plt.colorbar()\n",
    "plt.show()"
   ]
  },
  {
   "cell_type": "code",
   "execution_count": 14,
   "metadata": {},
   "outputs": [
    {
     "data": {
      "image/png": "[encoded data removed]",
      "text/plain": [
       "<Figure size 432x288 with 2 Axes>"
      ]
     },
     "metadata": {},
     "output_type": "display_data"
    }
   ],
   "source": [
    "plt.pcolor(short_ma, long_ma, results_sharpe)\n",
    "plt.colorbar()\n",
    "plt.show()"
   ]
  },
  {
   "cell_type": "code",
   "execution_count": null,
   "metadata": {},
   "outputs": [],
   "source": []
  }
 ],
 "metadata": {
  "kernelspec": {
   "display_name": "Python 3",
   "language": "python",
   "name": "python3"
  },
  "language_info": {
   "codemirror_mode": {
    "name": "ipython",
    "version": 3
   },
   "file_extension": ".py",
   "mimetype": "text/x-python",
   "name": "python",
   "nbconvert_exporter": "python",
   "pygments_lexer": "ipython3",
   "version": "3.6.1"
  }
 },
 "nbformat": 4,
 "nbformat_minor": 2
}
